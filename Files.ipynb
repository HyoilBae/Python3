{
 "cells": [
  {
   "cell_type": "code",
   "execution_count": 6,
   "metadata": {
    "collapsed": false
   },
   "outputs": [
    {
     "name": "stdout",
     "output_type": "stream",
     "text": [
      "<class 'str'>\n",
      "Produced by Anonymous Volunteers\n",
      "\n",
      "<class 'list'>\n",
      "['Produced', 'by', 'Anonymous', 'Volunteers']\n",
      "<class 'str'>\n"
     ]
    }
   ],
   "source": [
    "lines = []\n",
    "fh = open(\"Pride and Prejudice.txt\", \"r\")\n",
    "for l in fh:\n",
    "    lines.append(l)\n",
    "aline = lines[25]\n",
    "print(type(aline))\n",
    "print(aline)\n",
    "wordsa = aline.split()\n",
    "print(type(wordsa))\n",
    "print(wordsa)\n",
    "word1 = wordsa[0]\n",
    "print(type(word1))"
   ]
  },
  {
   "cell_type": "code",
   "execution_count": 1,
   "metadata": {
    "collapsed": false,
    "scrolled": true
   },
   "outputs": [
    {
     "name": "stdout",
     "output_type": "stream",
     "text": [
      "704188\n"
     ]
    }
   ],
   "source": [
    "with open('Pride and Prejudice.txt') as PandP:\n",
    "    #print(PandP.read())\n",
    "    print(len(PandP.read()))"
   ]
  },
  {
   "cell_type": "code",
   "execution_count": 2,
   "metadata": {
    "collapsed": false,
    "scrolled": true
   },
   "outputs": [
    {
     "name": "stdout",
     "output_type": "stream",
     "text": [
      "13427\n"
     ]
    }
   ],
   "source": [
    "with open('Pride and Prejudice.txt') as PandP:\n",
    "    count = 0\n",
    "    for line in PandP.readlines():\n",
    "        count += 1\n",
    "    print(count)"
   ]
  },
  {
   "cell_type": "code",
   "execution_count": 3,
   "metadata": {
    "collapsed": false
   },
   "outputs": [
    {
     "name": "stdout",
     "output_type": "stream",
     "text": [
      "Line count:  13427\n",
      "13427\n"
     ]
    }
   ],
   "source": [
    "PandP = open('Pride and Prejudice.txt')\n",
    "count = 0\n",
    "lines = []\n",
    "for line in PandP:\n",
    "    count += 1\n",
    "    lines.append(line)\n",
    "print('Line count: ', count)\n",
    "print(len(lines))\n"
   ]
  },
  {
   "cell_type": "code",
   "execution_count": 4,
   "metadata": {
    "collapsed": false
   },
   "outputs": [
    {
     "name": "stdout",
     "output_type": "stream",
     "text": [
      "13427\n",
      "13427\n",
      "704188\n",
      "52.445669174052284\n",
      "2394\n"
     ]
    }
   ],
   "source": [
    "with open('Pride and Prejudice.txt') as PandP:\n",
    "    count = 0\n",
    "    lines = []\n",
    "    lenSum = 0\n",
    "    avgLine = 0\n",
    "    zeroCount = 0\n",
    "    for line in PandP.readlines():\n",
    "        count += 1\n",
    "        lines.append(line)\n",
    "        lenSum += len(line)\n",
    "        \n",
    "        if len(line) == 1:\n",
    "            zeroCount += 1\n",
    "\n",
    "        \n",
    "    print(count)\n",
    "    print(len(lines))\n",
    "    print(lenSum)\n",
    "    avgLine = lenSum / count\n",
    "    print(avgLine)\n",
    "    print(zeroCount)"
   ]
  },
  {
   "cell_type": "code",
   "execution_count": 6,
   "metadata": {
    "collapsed": false
   },
   "outputs": [
    {
     "data": {
      "text/plain": [
       "str"
      ]
     },
     "execution_count": 6,
     "metadata": {
     },
     "output_type": "execute_result"
    }
   ],
   "source": [
    "type(lines[0])"
   ]
  },
  {
   "cell_type": "code",
   "execution_count": 5,
   "metadata": {
    "collapsed": false,
    "scrolled": true
   },
   "outputs": [
    {
     "name": "stdout",
     "output_type": "stream",
     "text": [
      "2394\n",
      "['\\n', '\\n', '\\n']\n"
     ]
    }
   ],
   "source": [
    "short_lines = []\n",
    "with open('Pride and Prejudice.txt') as PandP:\n",
    "    for line in PandP.readlines():\n",
    "        if len(line) == 1:\n",
    "            short_lines.append(line)\n",
    "    ##print(short_lines)\n",
    "    print(len(short_lines))\n",
    "    print(short_lines[:3])"
   ]
  },
  {
   "cell_type": "code",
   "execution_count": 2,
   "metadata": {
    "collapsed": false,
    "scrolled": true
   },
   "outputs": [
    {
     "name": "stdout",
     "output_type": "stream",
     "text": [
      "The\n",
      "Project\n",
      "Gutenberg\n",
      "EBook\n",
      "of\n",
      "Pride\n",
      "and\n",
      "Prejudice,\n",
      "by\n",
      "Jane\n",
      "Austen\n",
      "This\n",
      "eBook\n",
      "is\n",
      "for\n",
      "the\n",
      "use\n",
      "of\n",
      "anyone\n",
      "anywhere\n",
      "at\n",
      "no\n",
      "cost\n",
      "and\n",
      "with\n",
      "almost\n",
      "no\n",
      "restrictions\n",
      "whatsoever.\n",
      "You\n",
      "may\n",
      "copy\n",
      "it,\n",
      "give\n",
      "it\n",
      "away\n",
      "or\n",
      "re-use\n",
      "it\n",
      "under\n",
      "the\n",
      "terms\n",
      "of\n",
      "the\n",
      "Project\n",
      "Gutenberg\n",
      "License\n",
      "included\n",
      "with\n",
      "this\n",
      "eBook\n",
      "or\n",
      "online\n",
      "at\n",
      "www.gutenberg.org\n",
      "Title:\n",
      "Pride\n",
      "and\n",
      "Prejudice\n",
      "Author:\n",
      "Jane\n",
      "Austen\n",
      "Posting\n",
      "Date:\n",
      "August\n",
      "26,\n",
      "2008\n",
      "[EBook\n",
      "#1342]\n",
      "Release\n",
      "Date:\n",
      "June,\n",
      "1998\n",
      "Last\n",
      "Updated:\n",
      "March\n",
      "10,\n",
      "2018\n",
      "Language:\n",
      "English\n",
      "Character\n",
      "set\n",
      "encoding:\n",
      "UTF-8\n",
      "***\n",
      "START\n",
      "OF\n",
      "THIS\n",
      "PROJECT\n",
      "GUTENBERG\n",
      "EBOOK\n",
      "PRIDE\n",
      "AND\n",
      "PREJUDICE\n",
      "***\n",
      "Produced\n",
      "by\n",
      "Anonymous\n",
      "Volunteers\n",
      "PRIDE\n"
     ]
    }
   ],
   "source": [
    "wordList = []\n",
    "with open('Pride and Prejudice.txt') as PandP:\n",
    "    for line in PandP:\n",
    "        #print(line)\n",
    "        splitLine = line.split()\n",
    "        for word in splitLine:\n",
    "            wordList.append(word)\n",
    "    #print(wordList)\n",
    "\n",
    "    for i in range(100):\n",
    "        print(wordList[i])"
   ]
  },
  {
   "cell_type": "code",
   "execution_count": 0,
   "metadata": {
    "collapsed": false
   },
   "outputs": [
   ],
   "source": [
   ]
  },
  {
   "cell_type": "code",
   "execution_count": 6,
   "metadata": {
    "collapsed": false,
    "scrolled": true
   },
   "outputs": [
    {
     "name": "stderr",
     "output_type": "stream",
     "text": [
      "WARNING: some intermediate output was truncated.\n"
     ]
    },
    {
     "name": "stderr",
     "output_type": "stream",
     "text": [
      "WARNING: 6 intermediate output messages were discarded.\n"
     ]
    },
    {
     "name": "stderr",
     "output_type": "stream",
     "text": [
      "WARNING: Some output was deleted.\n"
     ]
    }
   ],
   "source": [
    "noDuplicatedList = []\n",
    "for word in wordList:\n",
    "    if word not in noDuplicatedList:\n",
    "        noDuplicatedList.append(word)\n",
    "    print(noDuplicatedList)"
   ]
  },
  {
   "cell_type": "code",
   "execution_count": 0,
   "metadata": {
    "collapsed": false
   },
   "outputs": [
   ],
   "source": [
   ]
  }
 ],
 "metadata": {
  "kernelspec": {
   "display_name": "Python 3 (system-wide)",
   "language": "python",
   "metadata": {
    "cocalc": {
     "description": "Python 3 programming language",
     "priority": 100,
     "url": "https://www.python.org/"
    }
   },
   "name": "python3"
  },
  "language_info": {
   "codemirror_mode": {
    "name": "ipython",
    "version": 3
   },
   "file_extension": ".py",
   "mimetype": "text/x-python",
   "name": "python",
   "nbconvert_exporter": "python",
   "pygments_lexer": "ipython3",
   "version": "3.6.9"
  }
 },
 "nbformat": 4,
 "nbformat_minor": 0
}