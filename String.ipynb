{
 "cells": [
  {
   "cell_type": "code",
   "execution_count": 12,
   "metadata": {
    "collapsed": false
   },
   "outputs": [
    {
     "name": "stdout",
     "output_type": "stream",
     "text": [
      "y\n",
      "y\n",
      "\n",
      "\n",
      "9\n",
      "\n",
      "\n",
      "e\n",
      "\n",
      "\n",
      "H\n",
      "y\n",
      "o\n",
      "i\n",
      "l\n",
      " \n",
      "B\n",
      "a\n",
      "e\n",
      "\n",
      "\n",
      "H\n",
      "y\n",
      "o\n",
      "i\n",
      "l\n",
      " \n",
      "B\n",
      "a\n",
      "e\n",
      "\n",
      "\n"
     ]
    }
   ],
   "source": [
    "my_name = \"Hyoil Bae\"\n",
    "second = \"y\"\n",
    "print(second)\n",
    "print(my_name[1])\n",
    "print(\"\\n\")\n",
    "\n",
    "len_my_name = len(my_name)\n",
    "print(len_my_name)\n",
    "print(\"\\n\")\n",
    "\n",
    "last_char_my_name = my_name[len(my_name)-1]\n",
    "print(last_char_my_name)\n",
    "print(\"\\n\")\n",
    "\n",
    "index = 0\n",
    "while index < len(my_name):\n",
    "    print(my_name[index])\n",
    "    index += 1\n",
    "print(\"\\n\")\n",
    "\n",
    "for alphabet in my_name:\n",
    "    print(alphabet)\n",
    "print(\"\\n\")"
   ]
  },
  {
   "cell_type": "code",
   "execution_count": 15,
   "metadata": {
    "collapsed": false
   },
   "outputs": [
    {
     "name": "stdout",
     "output_type": "stream",
     "text": [
      "4\n",
      "6\n",
      "l B\n"
     ]
    }
   ],
   "source": [
    "my_name = \"Hyoil Bae\"\n",
    "print(my_name.find('l'))\n",
    "print(my_name.find('B'))\n",
    "print(my_name[4:7])"
   ]
  },
  {
   "cell_type": "code",
   "execution_count": 21,
   "metadata": {
    "collapsed": false
   },
   "outputs": [
    {
     "name": "stdout",
     "output_type": "stream",
     "text": [
      "5\n",
      "5\n",
      "Hyoil\n",
      " Bae\n",
      "Hyoil\n",
      "Bae\n"
     ]
    }
   ],
   "source": [
    "my_name = \"Hyoil Bae\"\n",
    "print(my_name.find(' '))\n",
    "\n",
    "blank_pos = my_name.find(' ')\n",
    "print(blank_pos)\n",
    "print(my_name[:5])\n",
    "print(my_name[5:])\n",
    "print(my_name[:blank_pos])\n",
    "print(my_name[blank_pos+1:])"
   ]
  },
  {
   "cell_type": "code",
   "execution_count": 26,
   "metadata": {
    "collapsed": false
   },
   "outputs": [
    {
     "name": "stdout",
     "output_type": "stream",
     "text": [
      "hyoil bae\n",
      "Hyoil bae\n",
      "HYOIL BAE\n"
     ]
    }
   ],
   "source": [
    "my_name = \"Hyoil Bae\"\n",
    "print(my_name.lower())\n",
    "print((my_name.lower()).capitalize())\n",
    "print((my_name.lower()).upper())\n",
    "\n"
   ]
  },
  {
   "cell_type": "code",
   "execution_count": 33,
   "metadata": {
    "collapsed": false
   },
   "outputs": [
    {
     "name": "stdout",
     "output_type": "stream",
     "text": [
      "5\n",
      "5\n",
      "True\n"
     ]
    }
   ],
   "source": [
    "my_name = \"Hyoil Bae\"\n",
    "\n",
    "blank_ops = 5\n",
    "blank_ops2 = my_name.find(\" \")\n",
    "\n",
    "print(blank_ops)\n",
    "print(blank_ops2)\n",
    "\n",
    "print(blank_ops == blank_ops2)"
   ]
  },
  {
   "cell_type": "code",
   "execution_count": 49,
   "metadata": {
    "collapsed": false
   },
   "outputs": [
    {
     "name": "stdout",
     "output_type": "stream",
     "text": [
      "True\n",
      "False\n",
      "True\n",
      "True\n",
      "False\n",
      "True\n",
      "False\n",
      "True\n"
     ]
    }
   ],
   "source": [
    "def check_names(name):\n",
    "    if name[-3:] == \"son\" or name[-3] == \"sen\":\n",
    "        return True\n",
    "    else:\n",
    "        return False\n",
    "\n",
    "print(check_names(\"johnson\"))\n",
    "print(check_names(\"Smith\"))\n",
    "print(check_names(\"Anderson\"))\n",
    "\n",
    "def ends_with(name):\n",
    "    if name.endswith('son') or name.endswith('sen'):\n",
    "        return True\n",
    "    else:\n",
    "        return False\n",
    "\n",
    "print(ends_with(\"Johnson\"))\n",
    "print(ends_with(\"Smith\"))\n",
    "print(ends_with(\"Anderson\"))\n",
    "print(ends_with(\"JOHNSON\"))\n",
    "\n",
    "def ends_with2(name):\n",
    "    if (name.lower()).endswith('son') or (name.lower()).endswith('sen'):\n",
    "        return True\n",
    "    else:\n",
    "        return False\n",
    "\n",
    "print(ends_with2(\"JOHNSON\"))"
   ]
  },
  {
   "cell_type": "code",
   "execution_count": 59,
   "metadata": {
    "collapsed": false
   },
   "outputs": [
    {
     "name": "stdout",
     "output_type": "stream",
     "text": [
      "Abc\n",
      "Abc\n"
     ]
    }
   ],
   "source": [
    "s = \"abc\"\n",
    "##print(s)\n",
    "\n",
    "print(s.replace(s[0], \"A\"))\n",
    "\n",
    "s = \"A\" + s[1:]\n",
    "print(s)"
   ]
  },
  {
   "cell_type": "code",
   "execution_count": 60,
   "metadata": {
    "collapsed": false
   },
   "outputs": [
    {
     "name": "stdout",
     "output_type": "stream",
     "text": [
      "Ueia\n"
     ]
    }
   ],
   "source": [
    "s = \"Use this fact\"\n",
    "vowels = \"aeiouAEIOU\"\n",
    "res = \"\"\n",
    "\n",
    "for i in s:\n",
    "    if i in vowels:\n",
    "        res = res + i\n",
    "print(res)\n",
    "\n"
   ]
  },
  {
   "cell_type": "code",
   "execution_count": 66,
   "metadata": {
    "collapsed": false
   },
   "outputs": [
    {
     "name": "stdout",
     "output_type": "stream",
     "text": [
      "9\n",
      "None\n"
     ]
    }
   ],
   "source": [
    "def sq(x):\n",
    "    y = x ** 2\n",
    "    print(y)\n",
    "h = sq(3)\n",
    "print(h)"
   ]
  },
  {
   "cell_type": "code",
   "execution_count": 62,
   "metadata": {
    "collapsed": false
   },
   "outputs": [
    {
     "name": "stdout",
     "output_type": "stream",
     "text": [
      "A\n"
     ]
    }
   ],
   "source": [
    "x = 9\n",
    "if x % 3 == 0:\n",
    "    print(\"A\")\n",
    "else :\n",
    "    print(\"B\")\n",
    "    print(\"C\")\n"
   ]
  },
  {
   "cell_type": "code",
   "execution_count": 63,
   "metadata": {
    "collapsed": false
   },
   "outputs": [
    {
     "name": "stdout",
     "output_type": "stream",
     "text": [
      "B\n",
      "A\n",
      "C\n"
     ]
    }
   ],
   "source": [
    "for x in [4, 6]:\n",
    "    if x % 3 == 0:\n",
    "        print(\"A\")\n",
    "    else :\n",
    "        print(\"B\")\n",
    "print(\"C\")"
   ]
  },
  {
   "cell_type": "code",
   "execution_count": 64,
   "metadata": {
    "collapsed": false
   },
   "outputs": [
    {
     "name": "stdout",
     "output_type": "stream",
     "text": [
      "B\n",
      "D\n"
     ]
    }
   ],
   "source": [
    "x = 9\n",
    "if x% 3 != 0:\n",
    "    print(\"A\")\n",
    "elif x > 1:\n",
    "    print(\"B\")\n",
    "elif X < 10:\n",
    "    print(\"C\")\n",
    "print(\"D\")"
   ]
  },
  {
   "cell_type": "code",
   "execution_count": 0,
   "metadata": {
    "collapsed": false
   },
   "outputs": [
   ],
   "source": [
    "`"
   ]
  }
 ],
 "metadata": {
  "kernelspec": {
   "display_name": "Python 3 (system-wide)",
   "language": "python",
   "metadata": {
    "cocalc": {
     "description": "Python 3 programming language",
     "priority": 100,
     "url": "https://www.python.org/"
    }
   },
   "name": "python3"
  },
  "language_info": {
   "codemirror_mode": {
    "name": "ipython",
    "version": 3
   },
   "file_extension": ".py",
   "mimetype": "text/x-python",
   "name": "python",
   "nbconvert_exporter": "python",
   "pygments_lexer": "ipython3",
   "version": "3.6.9"
  }
 },
 "nbformat": 4,
 "nbformat_minor": 0
}