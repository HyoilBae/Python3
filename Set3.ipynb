{
 "cells": [
  {
   "cell_type": "code",
   "execution_count": 1,
   "metadata": {
    "collapsed": false
   },
   "outputs": [
    {
     "name": "stdout",
     "output_type": "stream",
     "text": [
      "(1, 'A', 'A', 'A', 'A')\n",
      "(2, 'A', 'A', 'A', 'B')\n",
      "(3, 'A', 'A', 'A', 'C')\n",
      "(4, 'A', 'A', 'B', 'A')\n",
      "(5, 'A', 'A', 'B', 'B')\n",
      "(6, 'A', 'A', 'B', 'C')\n",
      "(7, 'A', 'B', 'A', 'A')\n",
      "(8, 'A', 'B', 'A', 'B')\n",
      "(9, 'A', 'B', 'A', 'C')\n",
      "(10, 'A', 'B', 'B', 'A')\n",
      "(11, 'A', 'B', 'B', 'B')\n",
      "(12, 'A', 'B', 'B', 'C')\n",
      "(13, 'A', 'C', 'A', 'A')\n",
      "(14, 'A', 'C', 'A', 'B')\n",
      "(15, 'A', 'C', 'A', 'C')\n",
      "(16, 'A', 'C', 'B', 'A')\n",
      "(17, 'A', 'C', 'B', 'B')\n",
      "(18, 'A', 'C', 'B', 'C')\n",
      "(19, 'C', 'A', 'A', 'A')\n",
      "(20, 'C', 'A', 'A', 'B')\n",
      "(21, 'C', 'A', 'A', 'C')\n",
      "(22, 'C', 'A', 'B', 'A')\n",
      "(23, 'C', 'A', 'B', 'B')\n",
      "(24, 'C', 'A', 'B', 'C')\n",
      "(25, 'C', 'B', 'A', 'A')\n",
      "(26, 'C', 'B', 'A', 'B')\n",
      "(27, 'C', 'B', 'A', 'C')\n",
      "(28, 'C', 'B', 'B', 'A')\n",
      "(29, 'C', 'B', 'B', 'B')\n",
      "(30, 'C', 'B', 'B', 'C')\n",
      "(31, 'C', 'C', 'A', 'A')\n",
      "(32, 'C', 'C', 'A', 'B')\n",
      "(33, 'C', 'C', 'A', 'C')\n",
      "(34, 'C', 'C', 'B', 'A')\n",
      "(35, 'C', 'C', 'B', 'B')\n",
      "(36, 'C', 'C', 'B', 'C')\n"
     ]
    }
   ],
   "source": [
    "possibilities = []\n",
    "i = 0\n",
    "for NH in \"AC\":\n",
    "    for MN in \"ABC\":\n",
    "        for WI in \"AB\":\n",
    "            for CA in \"ABC\":\n",
    "                i += 1\n",
    "                outcome = (i,NH,MN,WI,CA)\n",
    "                possibilities.append(outcome)\n",
    "for i in possibilities:\n",
    "    print(i)"
   ]
  },
  {
   "cell_type": "code",
   "execution_count": 5,
   "metadata": {
    "collapsed": false
   },
   "outputs": [
    {
     "name": "stdout",
     "output_type": "stream",
     "text": [
      "(22, 'C', 'A', 'B', 'A')\n",
      "(6, 'A', 'A', 'B', 'C')\n",
      "(2, 'A', 'A', 'A', 'B')\n",
      "(21, 'C', 'A', 'A', 'C')\n",
      "(35, 'C', 'C', 'B', 'B')\n",
      "(1, 'A', 'A', 'A', 'A')\n",
      "(34, 'C', 'C', 'B', 'A')\n",
      "(31, 'C', 'C', 'A', 'A')\n",
      "(15, 'A', 'C', 'A', 'C')\n",
      "(4, 'A', 'A', 'B', 'A')\n",
      "(9, 'A', 'B', 'A', 'C')\n",
      "(27, 'C', 'B', 'A', 'C')\n",
      "(32, 'C', 'C', 'A', 'B')\n",
      "(3, 'A', 'A', 'A', 'C')\n",
      "(26, 'C', 'B', 'A', 'B')\n",
      "(10, 'A', 'B', 'B', 'A')\n",
      "(19, 'C', 'A', 'A', 'A')\n",
      "(18, 'A', 'C', 'B', 'C')\n",
      "(8, 'A', 'B', 'A', 'B')\n",
      "(33, 'C', 'C', 'A', 'C')\n",
      "(5, 'A', 'A', 'B', 'B')\n",
      "(29, 'C', 'B', 'B', 'B')\n",
      "(20, 'C', 'A', 'A', 'B')\n",
      "(36, 'C', 'C', 'B', 'C')\n",
      "(12, 'A', 'B', 'B', 'C')\n",
      "(23, 'C', 'A', 'B', 'B')\n",
      "(13, 'A', 'C', 'A', 'A')\n",
      "(28, 'C', 'B', 'B', 'A')\n",
      "(14, 'A', 'C', 'A', 'B')\n",
      "(17, 'A', 'C', 'B', 'B')\n",
      "(11, 'A', 'B', 'B', 'B')\n",
      "(30, 'C', 'B', 'B', 'C')\n",
      "(24, 'C', 'A', 'B', 'C')\n",
      "(25, 'C', 'B', 'A', 'A')\n",
      "(16, 'A', 'C', 'B', 'A')\n",
      "(7, 'A', 'B', 'A', 'A')\n"
     ]
    }
   ],
   "source": [
    "Universe = set(possibilities)\n",
    "#print(Universe)\n",
    "\n",
    "for i in Universe:\n",
    "    print(i)"
   ]
  },
  {
   "cell_type": "code",
   "execution_count": 7,
   "metadata": {
    "collapsed": false
   },
   "outputs": [
    {
     "name": "stdout",
     "output_type": "stream",
     "text": [
      "1\n",
      "4\n"
     ]
    }
   ],
   "source": [
    "def counter(cand, outcome):\n",
    "    count = 0\n",
    "    for winner in outcome:\n",
    "        if winner == cand:\n",
    "            count += 1\n",
    "    return count\n",
    "\n",
    "print(counter(\"B\", (14, 'A', 'C', 'A', 'B')))\n",
    "print(counter(\"A\", (1, \"A\", \"A\", \"A\", \"A\")))"
   ]
  },
  {
   "cell_type": "code",
   "execution_count": 13,
   "metadata": {
    "collapsed": false
   },
   "outputs": [
    {
     "name": "stdout",
     "output_type": "stream",
     "text": [
      "(11, 'A', 'B', 'B', 'B')\n",
      "(12, 'A', 'B', 'B', 'C')\n",
      "(17, 'A', 'C', 'B', 'B')\n",
      "(23, 'C', 'A', 'B', 'B')\n",
      "(26, 'C', 'B', 'A', 'B')\n",
      "(28, 'C', 'B', 'B', 'A')\n",
      "(29, 'C', 'B', 'B', 'B')\n"
     ]
    }
   ],
   "source": [
    "#What is the subset of U in which candidate B wins more primaries than either of the other candidates? Answer: {P11, P12, P17, P26, P28, P29}\n",
    "Example1 = {result for result in Universe if (counter(\"B\", result) > counter(\"A\", result)) and (counter(\"B\", result) > counter(\"C\", result))}\n",
    "\n",
    "for result in sorted(Example1):\n",
    "    print(result)"
   ]
  },
  {
   "cell_type": "code",
   "execution_count": 21,
   "metadata": {
    "collapsed": false
   },
   "outputs": [
    {
     "name": "stdout",
     "output_type": "stream",
     "text": [
      "(12, 'A', 'B', 'B', 'C')\n",
      "(15, 'A', 'C', 'A', 'C')\n",
      "(17, 'A', 'C', 'B', 'B')\n",
      "(21, 'C', 'A', 'A', 'C')\n",
      "(23, 'C', 'A', 'B', 'B')\n",
      "(26, 'C', 'B', 'A', 'B')\n",
      "(28, 'C', 'B', 'B', 'A')\n",
      "(31, 'C', 'C', 'A', 'A')\n"
     ]
    }
   ],
   "source": [
    "Ex1a = {result for result in Universe if (counter(\"A\", result) == counter(\"C\", result))}\n",
    "\n",
    "for result in sorted(Ex1a):\n",
    "    print(result)"
   ]
  },
  {
   "cell_type": "code",
   "execution_count": 15,
   "metadata": {
    "collapsed": false
   },
   "outputs": [
    {
     "name": "stdout",
     "output_type": "stream",
     "text": [
      "(11, 'A', 'B', 'B', 'B')\n",
      "(12, 'A', 'B', 'B', 'C')\n",
      "(17, 'A', 'C', 'B', 'B')\n",
      "(18, 'A', 'C', 'B', 'C')\n",
      "(19, 'C', 'A', 'A', 'A')\n",
      "(20, 'C', 'A', 'A', 'B')\n",
      "(22, 'C', 'A', 'B', 'A')\n",
      "(23, 'C', 'A', 'B', 'B')\n",
      "(25, 'C', 'B', 'A', 'A')\n",
      "(26, 'C', 'B', 'A', 'B')\n",
      "(28, 'C', 'B', 'B', 'A')\n",
      "(29, 'C', 'B', 'B', 'B')\n"
     ]
    }
   ],
   "source": [
    "Ex1b = {OC for OC in Universe if OC[1] != OC[2] and OC[1] != OC[3] and OC[1] != OC[4]}\n",
    "    \n",
    "for OC in sorted(Ex1b):\n",
    "    print(OC)"
   ]
  },
  {
   "cell_type": "code",
   "execution_count": 18,
   "metadata": {
    "collapsed": false
   },
   "outputs": [
   ],
   "source": [
    "Ex1c = {OC for OC in Universe if counter(\"C\", OC) == 4}\n",
    "\n",
    "for OC in sorted(Ex1c):\n",
    "    print(OC)"
   ]
  },
  {
   "cell_type": "code",
   "execution_count": 19,
   "metadata": {
    "collapsed": false
   },
   "outputs": [
    {
     "name": "stdout",
     "output_type": "stream",
     "text": [
      "(1, 'A', 'A', 'A', 'A')\n",
      "(2, 'A', 'A', 'A', 'B')\n",
      "(4, 'A', 'A', 'B', 'A')\n",
      "(5, 'A', 'A', 'B', 'B')\n",
      "(7, 'A', 'B', 'A', 'A')\n",
      "(8, 'A', 'B', 'A', 'B')\n",
      "(10, 'A', 'B', 'B', 'A')\n",
      "(11, 'A', 'B', 'B', 'B')\n"
     ]
    }
   ],
   "source": [
    "Ex1c = {OC for OC in Universe if counter(\"C\", OC) == 0}\n",
    "\n",
    "for OC in sorted(Ex1c):\n",
    "    print(OC)"
   ]
  },
  {
   "cell_type": "code",
   "execution_count": 22,
   "metadata": {
    "collapsed": false
   },
   "outputs": [
    {
     "name": "stdout",
     "output_type": "stream",
     "text": [
      "1a and 1b\n",
      "{(28, 'C', 'B', 'B', 'A'), (17, 'A', 'C', 'B', 'B'), (26, 'C', 'B', 'A', 'B'), (12, 'A', 'B', 'B', 'C'), (23, 'C', 'A', 'B', 'B')}\n",
      "1a and 1c\n",
      "set()\n",
      "1b and 1c\n",
      "{(11, 'A', 'B', 'B', 'B')}\n"
     ]
    }
   ],
   "source": [
    "print(\"1a and 1b\")\n",
    "print(Ex1a & Ex1b)\n",
    "\n",
    "print(\"1a and 1c\")\n",
    "print(Ex1a & Ex1c)\n",
    "\n",
    "print(\"1b and 1c\")\n",
    "print(Ex1b & Ex1c)"
   ]
  },
  {
   "cell_type": "code",
   "execution_count": 0,
   "metadata": {
    "collapsed": false
   },
   "outputs": [
   ],
   "source": [
   ]
  }
 ],
 "metadata": {
  "kernelspec": {
   "display_name": "Python 3 (system-wide)",
   "language": "python",
   "metadata": {
    "cocalc": {
     "description": "Python 3 programming language",
     "priority": 100,
     "url": "https://www.python.org/"
    }
   },
   "name": "python3"
  },
  "language_info": {
   "codemirror_mode": {
    "name": "ipython",
    "version": 3
   },
   "file_extension": ".py",
   "mimetype": "text/x-python",
   "name": "python",
   "nbconvert_exporter": "python",
   "pygments_lexer": "ipython3",
   "version": "3.6.9"
  }
 },
 "nbformat": 4,
 "nbformat_minor": 0
}