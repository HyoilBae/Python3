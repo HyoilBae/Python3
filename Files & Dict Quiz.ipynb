{
 "cells": [
  {
   "cell_type": "code",
   "execution_count": 5,
   "metadata": {
    "collapsed": false
   },
   "outputs": [
    {
     "name": "stdout",
     "output_type": "stream",
     "text": [
      "[('Joe', 175), ('Tom', 190), ('Dick', 150)]\n",
      "[175, 190, 150]\n",
      "['Joe', 'Tom', 'Dick']\n",
      "[('Tom', 190), ('Dick', 150), ('Gregor', 120)]\n"
     ]
    }
   ],
   "source": [
    "adict = {\"Joe\":175, \"Tom\":190, \"Dick\":150}\n",
    "its = list(adict.items())\n",
    "print(its)\n",
    "\n",
    "vs = list(adict.values())\n",
    "print(vs)\n",
    "\n",
    "ks = list(adict.keys())\n",
    "print(ks)\n",
    "\n",
    "adict[\"Gregor\"] = 120\n",
    "del adict[\"Joe\"]\n",
    "its = list(adict.items())\n",
    "print(its)"
   ]
  },
  {
   "cell_type": "code",
   "execution_count": 0,
   "metadata": {
    "collapsed": false
   },
   "outputs": [
   ],
   "source": [
    "lines = []\n",
    "fh = open(\"Pride and Prejudice.txt\", \"r\")\n",
    "for l in "
   ]
  }
 ],
 "metadata": {
  "kernelspec": {
   "display_name": "Python 3 (system-wide)",
   "language": "python",
   "metadata": {
    "cocalc": {
     "description": "Python 3 programming language",
     "priority": 100,
     "url": "https://www.python.org/"
    }
   },
   "name": "python3"
  },
  "language_info": {
   "codemirror_mode": {
    "name": "ipython",
    "version": 3
   },
   "file_extension": ".py",
   "mimetype": "text/x-python",
   "name": "python",
   "nbconvert_exporter": "python",
   "pygments_lexer": "ipython3",
   "version": "3.6.9"
  }
 },
 "nbformat": 4,
 "nbformat_minor": 0
}