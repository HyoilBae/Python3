{
 "cells": [
  {
   "cell_type": "code",
   "execution_count": 1,
   "metadata": {
    "collapsed": false
   },
   "outputs": [
    {
     "name": "stdout",
     "output_type": "stream",
     "text": [
      "True True True\n",
      "True False False\n",
      "False True True\n",
      "False False True\n"
     ]
    }
   ],
   "source": [
    "def implies(p, q):\n",
    "    return not (p and not q)\n",
    "tv = [True, False]\n",
    "for p in tv:\n",
    "    for q in tv:\n",
    "        print(p, q, implies(p, q))"
   ]
  },
  {
   "cell_type": "code",
   "execution_count": 8,
   "metadata": {
    "collapsed": false
   },
   "outputs": [
    {
     "ename": "IndentationError",
     "evalue": "unexpected indent (<ipython-input-8-269d8ef14a0e>, line 6)",
     "output_type": "error",
     "traceback": [
      "\u001b[0;36m  File \u001b[0;32m\"<ipython-input-8-269d8ef14a0e>\"\u001b[0;36m, line \u001b[0;32m6\u001b[0m\n\u001b[0;31m    for a in word2:\u001b[0m\n\u001b[0m    ^\u001b[0m\n\u001b[0;31mIndentationError\u001b[0m\u001b[0;31m:\u001b[0m unexpected indent\n"
     ]
    }
   ],
   "source": [
    "word = ['s', 't', 'o', 'p']\n",
    "word2 = ['s', 't', 'o', 'p']\n",
    "emptyWord = []\n",
    "\n",
    "    for a in word2:\n",
    "        for b in word2:\n",
    "            for c in word2:\n",
    "                for d in word2:\n",
    "                    emptyWord.append(word)\n",
    "\n",
    "print(emptyWord)"
   ]
  },
  {
   "cell_type": "code",
   "execution_count": 9,
   "metadata": {
    "collapsed": false
   },
   "outputs": [
    {
     "data": {
      "text/plain": [
       "256"
      ]
     },
     "execution_count": 9,
     "metadata": {
     },
     "output_type": "execute_result"
    }
   ],
   "source": [
    "4*4*4*4"
   ]
  },
  {
   "cell_type": "code",
   "execution_count": 14,
   "metadata": {
    "collapsed": false
   },
   "outputs": [
    {
     "name": "stdout",
     "output_type": "stream",
     "text": [
      "['s', 's', 's', 's', 't', 'o', 'p', 't', 's', 't', 'o', 'p', 'o', 's', 't', 'o', 'p', 'p', 's', 't', 'o', 'p', 't', 's', 's', 't', 'o', 'p', 't', 's', 't', 'o', 'p', 'o', 's', 't', 'o', 'p', 'p', 's', 't', 'o', 'p', 'o', 's', 's', 't', 'o', 'p', 't', 's', 't', 'o', 'p', 'o', 's', 't', 'o', 'p', 'p', 's', 't', 'o', 'p', 'p', 's', 's', 't', 'o', 'p', 't', 's', 't', 'o', 'p', 'o', 's', 't', 'o', 'p', 'p', 's', 't', 'o', 'p', 't', 's', 's', 's', 't', 'o', 'p', 't', 's', 't', 'o', 'p', 'o', 's', 't', 'o', 'p', 'p', 's', 't', 'o', 'p', 't', 's', 's', 't', 'o', 'p', 't', 's', 't', 'o', 'p', 'o', 's', 't', 'o', 'p', 'p', 's', 't', 'o', 'p', 'o', 's', 's', 't', 'o', 'p', 't', 's', 't', 'o', 'p', 'o', 's', 't', 'o', 'p', 'p', 's', 't', 'o', 'p', 'p', 's', 's', 't', 'o', 'p', 't', 's', 't', 'o', 'p', 'o', 's', 't', 'o', 'p', 'p', 's', 't', 'o', 'p', 'o', 's', 's', 's', 't', 'o', 'p', 't', 's', 't', 'o', 'p', 'o', 's', 't', 'o', 'p', 'p', 's', 't', 'o', 'p', 't', 's', 's', 't', 'o', 'p', 't', 's', 't', 'o', 'p', 'o', 's', 't', 'o', 'p', 'p', 's', 't', 'o', 'p', 'o', 's', 's', 't', 'o', 'p', 't', 's', 't', 'o', 'p', 'o', 's', 't', 'o', 'p', 'p', 's', 't', 'o', 'p', 'p', 's', 's', 't', 'o', 'p', 't', 's', 't', 'o', 'p', 'o', 's', 't', 'o', 'p', 'p', 's', 't', 'o', 'p', 'p', 's', 's', 's', 't', 'o', 'p', 't', 's', 't', 'o', 'p', 'o', 's', 't', 'o', 'p', 'p', 's', 't', 'o', 'p', 't', 's', 's', 't', 'o', 'p', 't', 's', 't', 'o', 'p', 'o', 's', 't', 'o', 'p', 'p', 's', 't', 'o', 'p', 'o', 's', 's', 't', 'o', 'p', 't', 's', 't', 'o', 'p', 'o', 's', 't', 'o', 'p', 'p', 's', 't', 'o', 'p', 'p', 's', 's', 't', 'o', 'p', 't', 's', 't', 'o', 'p', 'o', 's', 't', 'o', 'p', 'p', 's', 't', 'o', 'p']\n"
     ]
    }
   ],
   "source": [
    "word = ['s', 't', 'o', 'p']\n",
    "wordMade = []\n",
    "for a in word:\n",
    "    wordMade.append(a)\n",
    "    for b in word:\n",
    "        wordMade.append(b)\n",
    "        for c in word:\n",
    "            wordMade.append(c)\n",
    "            for d in word:\n",
    "                wordMade.append(d)\n",
    "                ##print(a,b,c,d)\n",
    "                ##wordMade.append(a)\n",
    "print(wordMade)"
   ]
  },
  {
   "cell_type": "code",
   "execution_count": 23,
   "metadata": {
    "collapsed": false
   },
   "outputs": [
    {
     "name": "stdout",
     "output_type": "stream",
     "text": [
      "['ssss', 'ssst', 'ssso', 'sssp', 'ssts', 'sstt', 'ssto', 'sstp', 'ssos', 'ssot', 'ssoo', 'ssop', 'ssps', 'sspt', 'sspo', 'sspp', 'stss', 'stst', 'stso', 'stsp', 'stts', 'sttt', 'stto', 'sttp', 'stos', 'stot', 'stoo', 'stop', 'stps', 'stpt', 'stpo', 'stpp', 'soss', 'sost', 'soso', 'sosp', 'sots', 'sott', 'soto', 'sotp', 'soos', 'soot', 'sooo', 'soop', 'sops', 'sopt', 'sopo', 'sopp', 'spss', 'spst', 'spso', 'spsp', 'spts', 'sptt', 'spto', 'sptp', 'spos', 'spot', 'spoo', 'spop', 'spps', 'sppt', 'sppo', 'sppp', 'tsss', 'tsst', 'tsso', 'tssp', 'tsts', 'tstt', 'tsto', 'tstp', 'tsos', 'tsot', 'tsoo', 'tsop', 'tsps', 'tspt', 'tspo', 'tspp', 'ttss', 'ttst', 'ttso', 'ttsp', 'ttts', 'tttt', 'ttto', 'tttp', 'ttos', 'ttot', 'ttoo', 'ttop', 'ttps', 'ttpt', 'ttpo', 'ttpp', 'toss', 'tost', 'toso', 'tosp', 'tots', 'tott', 'toto', 'totp', 'toos', 'toot', 'tooo', 'toop', 'tops', 'topt', 'topo', 'topp', 'tpss', 'tpst', 'tpso', 'tpsp', 'tpts', 'tptt', 'tpto', 'tptp', 'tpos', 'tpot', 'tpoo', 'tpop', 'tpps', 'tppt', 'tppo', 'tppp', 'osss', 'osst', 'osso', 'ossp', 'osts', 'ostt', 'osto', 'ostp', 'osos', 'osot', 'osoo', 'osop', 'osps', 'ospt', 'ospo', 'ospp', 'otss', 'otst', 'otso', 'otsp', 'otts', 'ottt', 'otto', 'ottp', 'otos', 'otot', 'otoo', 'otop', 'otps', 'otpt', 'otpo', 'otpp', 'ooss', 'oost', 'ooso', 'oosp', 'oots', 'oott', 'ooto', 'ootp', 'ooos', 'ooot', 'oooo', 'ooop', 'oops', 'oopt', 'oopo', 'oopp', 'opss', 'opst', 'opso', 'opsp', 'opts', 'optt', 'opto', 'optp', 'opos', 'opot', 'opoo', 'opop', 'opps', 'oppt', 'oppo', 'oppp', 'psss', 'psst', 'psso', 'pssp', 'psts', 'pstt', 'psto', 'pstp', 'psos', 'psot', 'psoo', 'psop', 'psps', 'pspt', 'pspo', 'pspp', 'ptss', 'ptst', 'ptso', 'ptsp', 'ptts', 'pttt', 'ptto', 'pttp', 'ptos', 'ptot', 'ptoo', 'ptop', 'ptps', 'ptpt', 'ptpo', 'ptpp', 'poss', 'post', 'poso', 'posp', 'pots', 'pott', 'poto', 'potp', 'poos', 'poot', 'pooo', 'poop', 'pops', 'popt', 'popo', 'popp', 'ppss', 'ppst', 'ppso', 'ppsp', 'ppts', 'pptt', 'ppto', 'pptp', 'ppos', 'ppot', 'ppoo', 'ppop', 'ppps', 'pppt', 'pppo', 'pppp']\n",
      "256\n",
      "256\n"
     ]
    }
   ],
   "source": [
    "word = ['s', 't', 'o', 'p']\n",
    "wordMade = []\n",
    "for a in word:\n",
    "    #wordMade.append(a)\n",
    "    for b in word:\n",
    "        #wordMade.append(b)\n",
    "        for c in word:\n",
    "            #wordMade.append(c)\n",
    "            for d in word:\n",
    "                #wordMade.append(d)\n",
    "                ##print(a,b,c,d)\n",
    "                wordMade.append(a+b+c+d)\n",
    "              \n",
    "print(wordMade)\n",
    "\n",
    "count = 0\n",
    "for i in wordMade:\n",
    "    count += 1\n",
    "    \n",
    "print(count)\n",
    "print(len(wordMade))"
   ]
  },
  {
   "cell_type": "code",
   "execution_count": 30,
   "metadata": {
    "collapsed": false
   },
   "outputs": [
    {
     "data": {
      "text/plain": [
       "True"
      ]
     },
     "execution_count": 30,
     "metadata": {
     },
     "output_type": "execute_result"
    }
   ],
   "source": [
    "import enchant\n",
    "d = enchant.Dict(\"en_US\")\n",
    "\n",
    "d.check(\"poop\")\n",
    "\n"
   ]
  },
  {
   "cell_type": "code",
   "execution_count": 41,
   "metadata": {
    "collapsed": false
   },
   "outputs": [
    {
     "name": "stdout",
     "output_type": "stream",
     "text": [
      "['stop', 'sots', 'soto', 'soot', 'sops', 'spot', 'toss', 'tots', 'toto', 'toot', 'tops', 'otto', 'oops', 'opts', 'psst', 'poss', 'post', 'pots', 'poos', 'poop', 'pops']\n",
      "21\n"
     ]
    }
   ],
   "source": [
    "engWords = []\n",
    "for w in wordMade:\n",
    "    if d.check(w.upper()):\n",
    "        engWords.append(w)\n",
    "\n",
    "print(engWords)\n",
    "print(len(engWords))"
   ]
  },
  {
   "cell_type": "code",
   "execution_count": 47,
   "metadata": {
    "collapsed": false
   },
   "outputs": [
    {
     "name": "stdout",
     "output_type": "stream",
     "text": [
      "{'SPSS', 'SSSO', 'SOTS', 'OTPP', 'OPPP', 'SPTO', 'PSOO', 'TSST', 'PSPO', 'OOOS', 'OTPT', 'OSOO', 'SSST', 'OTPO', 'PSSS', 'POPT', 'TSOT', 'SSOT', 'OSTS', 'TSSP', 'OSOP', 'OOPT', 'PPTP', 'POOP', 'PPPS', 'SOOT', 'TTST', 'PTSS', 'PTSO', 'OSPO', 'TPPT', 'OSSO', 'SPTS', 'SPOT', 'SOTT', 'PSPS', 'OPPS', 'SSPO', 'POSS', 'TTSO', 'STOO', 'TTPO', 'PTTS', 'PSTT', 'PSPT', 'PSTO', 'PPTO', 'OPSS', 'TPOS', 'PPOT', 'OPST', 'SPST', 'STPT', 'SSPT', 'TTTT', 'OSSP', 'OSTT', 'SOPT', 'PSTP', 'OOTP', 'TSPS', 'STTO', 'OSPS', 'POTT', 'TSTO', 'OPPT', 'OSOT', 'OTPS', 'SPPT', 'OSOS', 'OSPT', 'OPOO', 'TPOO', 'OSST', 'SOSO', 'SOOP', 'PSSP', 'SSOS', 'PPSO', 'POOS', 'PPPT', 'SOSS', 'TTOS', 'TSPT', 'OPSO', 'SPSO', 'OTTT', 'STSP', 'OTTS', 'OOOP', 'OOPO', 'TOPO', 'OPTT', 'TSSO', 'TPTT', 'PPOS', 'PTST', 'TSTT', 'TOOP', 'TPPP', 'PTPO', 'SSTP', 'STTP', 'OPOT', 'PPOO', 'OTOP', 'PPTS', 'TOOO', 'TTSP', 'TPSO', 'TPSS', 'PTOT', 'PTOP', 'PTPS', 'PPTT', 'POPS', 'TTPP', 'TOTS', 'OOTT', 'TPTO', 'OOTS', 'OPOS', 'OTOT', 'SSTS', 'SOOO', 'SPPS', 'POSP', 'SSSS', 'TOTO', 'STOT', 'OPSP', 'PTTO', 'PPPO', 'SOST', 'STSO', 'SOSP', 'TTPS', 'STSS', 'TPOP', 'OSTP', 'PSTS', 'PTSP', 'OOOT', 'TTTP', 'TSTS', 'STOS', 'TSSS', 'TTTO', 'PPST', 'TSOP', 'PPSP', 'OTSP', 'OOPP', 'PSPP', 'STTT', 'SPOO', 'POPO', 'PTOO', 'POOO', 'OOPS', 'TPTS', 'PSOP', 'OTST', 'TPTP', 'STTS', 'OPOP', 'PSOT', 'SSTO', 'SPTP', 'OPPO', 'STPS', 'TOPT', 'TOPP', 'SOPP', 'PTPT', 'SPPO', 'TSPO', 'OOSO', 'TPOT', 'TOSO', 'TOPS', 'POTP', 'PPSS', 'OTOS', 'SPTT', 'SPPP', 'SSTT', 'PSSO', 'TSTP', 'TOSS', 'OPTP', 'PPOP', 'PPPP', 'OOOO', 'TOOS', 'PSOS', 'SSOO', 'OTSS', 'TPPS', 'OTTO', 'TPST', 'TTOO', 'SOPS', 'POPP', 'PSST', 'OOST', 'PTPP', 'SOTO', 'OTSO', 'TOTP', 'OTOO', 'STPP', 'TTOT', 'SPSP', 'SSPS', 'SSSP', 'OPTS', 'PTTT', 'TOST', 'TTPT', 'OOSS', 'STOP', 'TSOS', 'SSPP', 'SOTP', 'TPPO', 'SOOS', 'SPOP', 'PTTP', 'TTTS', 'OTTP', 'PTOS', 'SOPO', 'OOSP', 'POTO', 'STPO', 'TSPP', 'POOT', 'OOTO', 'POSO', 'TPSP', 'POTS', 'OSTO', 'TOOT', 'TSOO', 'OSSS', 'TTOP', 'OPTO', 'POST', 'SSOP', 'OSPP', 'TOSP', 'STST', 'SPOS', 'TTSS', 'TOTT'}\n",
      "256\n",
      "256\n"
     ]
    }
   ],
   "source": [
    "word = [\"S\",\"T\",\"O\",\"P\"]\n",
    "wordMade = set()\n",
    "for a in word:\n",
    "    #wordMade.append(a)\n",
    "    for b in word:\n",
    "        #wordMade.append(b)\n",
    "        for c in word:\n",
    "            #wordMade.append(c)\n",
    "            for d in word:\n",
    "                #wordMade.append(d)\n",
    "                ##print(a,b,c,d)\n",
    "                wordMade.add(a+b+c+d)\n",
    "              \n",
    "print(wordMade)\n",
    "\n",
    "count = 0\n",
    "for i in wordMade:\n",
    "    count += 1\n",
    "    \n",
    "print(count)\n",
    "\n",
    "print(len(wordMade))"
   ]
  },
  {
   "cell_type": "code",
   "execution_count": 62,
   "metadata": {
    "collapsed": false
   },
   "outputs": [
    {
     "name": "stdout",
     "output_type": "stream",
     "text": [
      "{'TTTP', 'OTPP', 'SPPT', 'OSPT', 'PTPP', 'TPOO', 'SPTO', 'TOTP', 'STPP', 'PPPT', 'OTPT', 'OTPO', 'POPT', 'TSPT', 'PTOO', 'OPTS', 'PTTT', 'TTPT', 'TPTS', 'OPTT', 'TPTT', 'PTST', 'TPPP', 'SOTP', 'TPPO', 'PTTP', 'OOPT', 'PPTP', 'TPTP', 'PTPO', 'OTTP', 'PTOS', 'PTSS', 'SSTP', 'STTP', 'SPTP', 'TPPT', 'SPTS', 'PPTS', 'TPSO', 'STPS', 'TPSS', 'TOPT', 'TTPO', 'PTTS', 'PTPT', 'PTOT', 'PTOP', 'PTPS', 'PSPT', 'PPTT', 'TPOT', 'STPO', 'PPTO', 'TTPP', 'POTP', 'TPOS', 'SPTT', 'TPTO', 'TPSP', 'TSTP', 'OPTP', 'STPT', 'SSPT', 'SOPT', 'PSTP', 'OOTP', 'PTTO', 'OPTO', 'TPPS', 'TPST', 'TTPS', 'TPOP', 'OSTP', 'PTSP', 'OPPT', 'PTSO', 'OTPS'}\n",
      "78\n"
     ]
    }
   ],
   "source": [
    "pttp = set()\n",
    "for w in wordMade:\n",
    "    if \"PT\" in w or \"TP\" in w:\n",
    "        pttp.add(w)\n",
    "print(pttp)\n",
    "print(len(pttp))"
   ]
  },
  {
   "cell_type": "code",
   "execution_count": 10,
   "metadata": {
    "collapsed": false
   },
   "outputs": [
    {
     "name": "stdout",
     "output_type": "stream",
     "text": [
      "{('a', 'b')}\n",
      "{('a', 'b'), 'a'}\n",
      "{'c', ('a', 'b'), 'a'}\n",
      "{'c', ('a', 'b'), 'f', 'a'}\n",
      "{'g', ('a', 'b'), 'f', 'a', 'c'}\n",
      "{('z', 'y'), 'g', ('a', 'b'), 'f', 'a', 'c'}\n",
      "{'g', ('a', 'b'), 'f', 'a', 'c'}\n",
      "{'g', ('a', 'b'), 'f', 'c'}\n",
      "{'g', 'f', 'c'}\n"
     ]
    }
   ],
   "source": [
    "a = set()\n",
    "a.add(('a', 'b'))\n",
    "print(a)\n",
    "a.add(('a'))\n",
    "print(a)\n",
    "a.add('c')\n",
    "print(a)\n",
    "a.add('f')\n",
    "print(a)\n",
    "a.add('g')\n",
    "print(a)\n",
    "a.add(('z', 'y'))\n",
    "print(a)\n",
    "a.remove(('z', 'y'))\n",
    "print(a)\n",
    "a.remove('a')\n",
    "print(a)\n",
    "a.remove(('a', 'b'))\n",
    "print(a)"
   ]
  },
  {
   "cell_type": "code",
   "execution_count": 0,
   "metadata": {
    "collapsed": false
   },
   "outputs": [
   ],
   "source": [
   ]
  }
 ],
 "metadata": {
  "kernelspec": {
   "display_name": "Python 3 (system-wide)",
   "language": "python",
   "metadata": {
    "cocalc": {
     "description": "Python 3 programming language",
     "priority": 100,
     "url": "https://www.python.org/"
    }
   },
   "name": "python3"
  },
  "language_info": {
   "codemirror_mode": {
    "name": "ipython",
    "version": 3
   },
   "file_extension": ".py",
   "mimetype": "text/x-python",
   "name": "python",
   "nbconvert_exporter": "python",
   "pygments_lexer": "ipython3",
   "version": "3.6.9"
  }
 },
 "nbformat": 4,
 "nbformat_minor": 0
}