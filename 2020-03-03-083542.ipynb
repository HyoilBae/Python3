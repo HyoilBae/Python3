{
 "cells": [
  {
   "cell_type": "code",
   "execution_count": 3,
   "metadata": {
    "collapsed": false
   },
   "outputs": [
    {
     "name": "stdout",
     "output_type": "stream",
     "text": [
      "['ssss', 'ssst', 'ssso', 'sssp', 'ssts', 'sstt', 'ssto', 'sstp', 'ssos', 'ssot', 'ssoo', 'ssop', 'ssps', 'sspt', 'sspo', 'sspp', 'stss', 'stst', 'stso', 'stsp', 'stts', 'sttt', 'stto', 'sttp', 'stos', 'stot', 'stoo', 'stop', 'stps', 'stpt', 'stpo', 'stpp', 'soss', 'sost', 'soso', 'sosp', 'sots', 'sott', 'soto', 'sotp', 'soos', 'soot', 'sooo', 'soop', 'sops', 'sopt', 'sopo', 'sopp', 'spss', 'spst', 'spso', 'spsp', 'spts', 'sptt', 'spto', 'sptp', 'spos', 'spot', 'spoo', 'spop', 'spps', 'sppt', 'sppo', 'sppp', 'tsss', 'tsst', 'tsso', 'tssp', 'tsts', 'tstt', 'tsto', 'tstp', 'tsos', 'tsot', 'tsoo', 'tsop', 'tsps', 'tspt', 'tspo', 'tspp', 'ttss', 'ttst', 'ttso', 'ttsp', 'ttts', 'tttt', 'ttto', 'tttp', 'ttos', 'ttot', 'ttoo', 'ttop', 'ttps', 'ttpt', 'ttpo', 'ttpp', 'toss', 'tost', 'toso', 'tosp', 'tots', 'tott', 'toto', 'totp', 'toos', 'toot', 'tooo', 'toop', 'tops', 'topt', 'topo', 'topp', 'tpss', 'tpst', 'tpso', 'tpsp', 'tpts', 'tptt', 'tpto', 'tptp', 'tpos', 'tpot', 'tpoo', 'tpop', 'tpps', 'tppt', 'tppo', 'tppp', 'osss', 'osst', 'osso', 'ossp', 'osts', 'ostt', 'osto', 'ostp', 'osos', 'osot', 'osoo', 'osop', 'osps', 'ospt', 'ospo', 'ospp', 'otss', 'otst', 'otso', 'otsp', 'otts', 'ottt', 'otto', 'ottp', 'otos', 'otot', 'otoo', 'otop', 'otps', 'otpt', 'otpo', 'otpp', 'ooss', 'oost', 'ooso', 'oosp', 'oots', 'oott', 'ooto', 'ootp', 'ooos', 'ooot', 'oooo', 'ooop', 'oops', 'oopt', 'oopo', 'oopp', 'opss', 'opst', 'opso', 'opsp', 'opts', 'optt', 'opto', 'optp', 'opos', 'opot', 'opoo', 'opop', 'opps', 'oppt', 'oppo', 'oppp', 'psss', 'psst', 'psso', 'pssp', 'psts', 'pstt', 'psto', 'pstp', 'psos', 'psot', 'psoo', 'psop', 'psps', 'pspt', 'pspo', 'pspp', 'ptss', 'ptst', 'ptso', 'ptsp', 'ptts', 'pttt', 'ptto', 'pttp', 'ptos', 'ptot', 'ptoo', 'ptop', 'ptps', 'ptpt', 'ptpo', 'ptpp', 'poss', 'post', 'poso', 'posp', 'pots', 'pott', 'poto', 'potp', 'poos', 'poot', 'pooo', 'poop', 'pops', 'popt', 'popo', 'popp', 'ppss', 'ppst', 'ppso', 'ppsp', 'ppts', 'pptt', 'ppto', 'pptp', 'ppos', 'ppot', 'ppoo', 'ppop', 'ppps', 'pppt', 'pppo', 'pppp']\n",
      "256\n",
      "256\n"
     ]
    }
   ],
   "source": [
    "word = ['s', 't', 'o', 'p']\n",
    "words = []\n",
    "for a in word:\n",
    "    #wordMade.append(a)\n",
    "    for b in word:\n",
    "        #wordMade.append(b)\n",
    "        for c in word:\n",
    "            #wordMade.append(c)\n",
    "            for d in word:\n",
    "                #wordMade.append(d)\n",
    "                ##print(a,b,c,d)\n",
    "                words.append(a+b+c+d)\n",
    "print(words)\n",
    "\n",
    "count = 0\n",
    "for i in words:\n",
    "    count += 1\n",
    "\n",
    "print(count)\n",
    "print(len(words))"
   ]
  },
  {
   "cell_type": "code",
   "execution_count": 15,
   "metadata": {
    "collapsed": false
   },
   "outputs": [
    {
     "name": "stdout",
     "output_type": "stream",
     "text": [
      "['stop', 'stpo', 'sotp', 'sopt', 'spto', 'spot', 'tsop', 'tspo', 'tosp', 'tops', 'tpso', 'tpos', 'ostp', 'ospt', 'otsp', 'otps', 'opst', 'opts', 'psto', 'psot', 'ptso', 'ptos', 'post', 'pots']\n",
      "24\n"
     ]
    }
   ],
   "source": [
    "word = \"stop\"\n",
    "WordMinusDuple = []\n",
    "for w1 in word:\n",
    "    for w2 in word:\n",
    "        for w3 in word:\n",
    "            for w4 in word:\n",
    "                words = w1+w2+w3+w4\n",
    "                count = 0\n",
    "                for i in word:\n",
    "                    if i in words:\n",
    "                        count += 1\n",
    "                if count == 4:\n",
    "                    WordMinusDuple.append(words)\n",
    "print(WordMinusDuple)\n",
    "print(len(WordMinusDuple))"
   ]
  },
  {
   "cell_type": "code",
   "execution_count": 9,
   "metadata": {
    "collapsed": false
   },
   "outputs": [
    {
     "name": "stdout",
     "output_type": "stream",
     "text": [
      "['STOP', 'STPO', 'SOTP', 'SOPT', 'SPTO', 'SPOT', 'TSOP', 'TSPO', 'TOSP', 'TOPS', 'TPSO', 'TPOS', 'OSTP', 'OSPT', 'OTSP', 'OTPS', 'OPST', 'OPTS', 'PSTO', 'PSOT', 'PTSO', 'PTOS', 'POST', 'POTS']\n"
     ]
    }
   ],
   "source": [
    "words1 = []\n",
    "for l1 in \"STOP\":\n",
    "    for l2 in \"STOP\":\n",
    "        for l3 in \"STOP\":\n",
    "            for l4 in \"STOP\":\n",
    "                word = l1 + l2 + l3 + l4\n",
    "                \n",
    "                # Checking code\n",
    "                count = 0\n",
    "                for i in \"STOP\":\n",
    "                    if i in word:\n",
    "                        count = count + 1\n",
    "                if count == 4:\n",
    "                    words1.append(word)\n",
    "print(words1)"
   ]
  },
  {
   "cell_type": "code",
   "execution_count": 27,
   "metadata": {
    "collapsed": false
   },
   "outputs": [
    {
     "name": "stdout",
     "output_type": "stream",
     "text": [
      "{'T', 'S', 'O', 'P'}\n",
      "['TOSP', 'TOPS', 'TSOP', 'TSPO', 'TPOS', 'TPSO', 'STOP', 'STPO', 'SOTP', 'SOPT', 'SPTO', 'SPOT', 'OTSP', 'OTPS', 'OSTP', 'OSPT', 'OPTS', 'OPST', 'PTOS', 'PTSO', 'PSTO', 'PSOT', 'POTS', 'POST']\n"
     ]
    }
   ],
   "source": [
    "words2 = []\n",
    "wset = set(list(\"STOP\"))\n",
    "print(wset)\n",
    "\n",
    "for a in wset:\n",
    "    for b in wset - {a}:\n",
    "        for c in wset - {a, b}:\n",
    "            for d in wset - {a, b, c}:\n",
    "                word = a+b+c+d\n",
    "                words2.append(word)\n",
    "print(words2)"
   ]
  },
  {
   "cell_type": "code",
   "execution_count": 33,
   "metadata": {
    "collapsed": false
   },
   "outputs": [
    {
     "data": {
      "text/plain": [
       "True"
      ]
     },
     "execution_count": 33,
     "metadata": {
     },
     "output_type": "execute_result"
    }
   ],
   "source": [
    "set(words1) == set(words2)"
   ]
  },
  {
   "cell_type": "code",
   "execution_count": 0,
   "metadata": {
    "collapsed": false
   },
   "outputs": [
   ],
   "source": [
   ]
  }
 ],
 "metadata": {
  "kernelspec": {
   "display_name": "Python 3 (system-wide)",
   "language": "python",
   "metadata": {
    "cocalc": {
     "description": "Python 3 programming language",
     "priority": 100,
     "url": "https://www.python.org/"
    }
   },
   "name": "python3"
  },
  "language_info": {
   "codemirror_mode": {
    "name": "ipython",
    "version": 3
   },
   "file_extension": ".py",
   "mimetype": "text/x-python",
   "name": "python",
   "nbconvert_exporter": "python",
   "pygments_lexer": "ipython3",
   "version": "3.6.9"
  }
 },
 "nbformat": 4,
 "nbformat_minor": 0
}