{
 "cells": [
  {
   "cell_type": "code",
   "execution_count": 1,
   "metadata": {
    "collapsed": false
   },
   "outputs": [
    {
     "data": {
      "text/plain": [
       "13"
      ]
     },
     "execution_count": 1,
     "metadata": {
     },
     "output_type": "execute_result"
    }
   ],
   "source": [
    "int('1101', base = 2)"
   ]
  },
  {
   "cell_type": "code",
   "execution_count": 4,
   "metadata": {
    "collapsed": false
   },
   "outputs": [
    {
     "data": {
      "text/plain": [
       "4353"
      ]
     },
     "execution_count": 4,
     "metadata": {
     },
     "output_type": "execute_result"
    }
   ],
   "source": [
    "int('1101', base = 16)"
   ]
  },
  {
   "cell_type": "code",
   "execution_count": 7,
   "metadata": {
    "collapsed": false
   },
   "outputs": [
    {
     "data": {
      "text/plain": [
       "6"
      ]
     },
     "execution_count": 7,
     "metadata": {
     },
     "output_type": "execute_result"
    }
   ],
   "source": [
    "int('110', base = 2)"
   ]
  },
  {
   "cell_type": "code",
   "execution_count": 10,
   "metadata": {
    "collapsed": false
   },
   "outputs": [
    {
     "name": "stdout",
     "output_type": "stream",
     "text": [
      "11\n"
     ]
    }
   ],
   "source": [
    "in_string = '1011'\n",
    "length= len(in_string)\n",
    "exponent = length -1\n",
    "index = 0\n",
    "result = 0\n",
    "\n",
    "for index in range(length):\n",
    "    exponent = length -1 -index\n",
    "    result = result + int(in_string[index]) * 2 ** exponent\n",
    "print(result)"
   ]
  },
  {
   "cell_type": "code",
   "execution_count": 12,
   "metadata": {
    "collapsed": false
   },
   "outputs": [
    {
     "name": "stdout",
     "output_type": "stream",
     "text": [
      "11\n"
     ]
    }
   ],
   "source": [
    "in_string = '1011'\n",
    "length = len(in_string)\n",
    "exponent = length -1\n",
    "index = 0\n",
    "result = 0\n",
    "\n",
    "while index <= length -1:\n",
    "    result = result + int(in_string[index]) * 2 ** exponent\n",
    "    exponent = exponent - 1;\n",
    "    index = index + 1\n",
    "print(result)"
   ]
  },
  {
   "cell_type": "code",
   "execution_count": 16,
   "metadata": {
    "collapsed": false
   },
   "outputs": [
    {
     "name": "stdout",
     "output_type": "stream",
     "text": [
      "19\n"
     ]
    }
   ],
   "source": [
    "in_string = '13'\n",
    "length= len(in_string)\n",
    "exponent = length -1\n",
    "index = 0\n",
    "result = 0\n",
    "\n",
    "for index in range(length):\n",
    "    exponent = length -1 -index\n",
    "    result = result + int(in_string[index]) * 16 ** exponent\n",
    "print(result)"
   ]
  },
  {
   "cell_type": "code",
   "execution_count": 19,
   "metadata": {
    "collapsed": false
   },
   "outputs": [
    {
     "name": "stdout",
     "output_type": "stream",
     "text": [
      "exponent :  1\n",
      "result :  16\n",
      "exponent :  0\n",
      "result :  16\n",
      "16\n"
     ]
    }
   ],
   "source": [
    "hexaString = '10'\n",
    "length = len(hexaString)\n",
    "exponent = length - 1\n",
    "index = 0\n",
    "result = 0\n",
    "\n",
    "for index in range(length):\n",
    "    exponent = length - 1 - index\n",
    "    print(\"exponent : \", exponent)\n",
    "    result = result + int(hexaString[index]) * 16 ** exponent\n",
    "    print(\"result : \", result)\n",
    "print(result)"
   ]
  },
  {
   "cell_type": "code",
   "execution_count": 27,
   "metadata": {
    "collapsed": false
   },
   "outputs": [
    {
     "name": "stdout",
     "output_type": "stream",
     "text": [
      "101\n"
     ]
    }
   ],
   "source": [
    "decimalNumber = '101'\n",
    "length = len(decimalNumber)\n",
    "exponent = length - 1\n",
    "index = 0\n",
    "result = 0\n",
    "for index in range(length):\n",
    "    exponent = length - 1 - index\n",
    "    result = result + int(decimalNumber[index]) * 10 ** exponent\n",
    "print(result)"
   ]
  },
  {
   "cell_type": "code",
   "execution_count": 32,
   "metadata": {
    "collapsed": false
   },
   "outputs": [
    {
     "ename": "NameError",
     "evalue": "name 'lenth' is not defined",
     "output_type": "error",
     "traceback": [
      "\u001b[0;31m---------------------------------------------------------------------------\u001b[0m",
      "\u001b[0;31mNameError\u001b[0m                                 Traceback (most recent call last)",
      "\u001b[0;32m<ipython-input-32-9fcadf3d72d1>\u001b[0m in \u001b[0;36m<module>\u001b[0;34m\u001b[0m\n\u001b[1;32m      1\u001b[0m \u001b[0mdecimalNumber\u001b[0m \u001b[0;34m=\u001b[0m \u001b[0;34m'10'\u001b[0m\u001b[0;34m\u001b[0m\u001b[0;34m\u001b[0m\u001b[0m\n\u001b[1;32m      2\u001b[0m \u001b[0mlength\u001b[0m \u001b[0;34m=\u001b[0m \u001b[0mlen\u001b[0m\u001b[0;34m(\u001b[0m\u001b[0mdecimalNumber\u001b[0m\u001b[0;34m)\u001b[0m\u001b[0;34m\u001b[0m\u001b[0;34m\u001b[0m\u001b[0m\n\u001b[0;32m----> 3\u001b[0;31m \u001b[0mexponent\u001b[0m \u001b[0;34m=\u001b[0m \u001b[0mlenth\u001b[0m \u001b[0;34m-\u001b[0m \u001b[0;36m1\u001b[0m\u001b[0;34m\u001b[0m\u001b[0;34m\u001b[0m\u001b[0m\n\u001b[0m\u001b[1;32m      4\u001b[0m \u001b[0mindex\u001b[0m \u001b[0;34m=\u001b[0m \u001b[0;36m0\u001b[0m\u001b[0;34m\u001b[0m\u001b[0;34m\u001b[0m\u001b[0m\n\u001b[1;32m      5\u001b[0m \u001b[0mresult\u001b[0m \u001b[0;34m=\u001b[0m \u001b[0;36m0\u001b[0m\u001b[0;34m\u001b[0m\u001b[0;34m\u001b[0m\u001b[0m\n",
      "\u001b[0;31mNameError\u001b[0m: name 'lenth' is not defined"
     ]
    }
   ],
   "source": [
    "decimalNumber = '10'\n",
    "length = len(decimalNumber)\n",
    "exponent = lenth - 1\n",
    "index = 0\n",
    "result = 0\n",
    "\n",
    "for index in range(length):\n",
    "    exponent = length - 1 - index\n",
    "    if((int(decumalNumber[index]) * 2 ** exponent) > int(decimalNumber)):\n",
    "        exponent = exponent -1\n",
    "print(exponent)"
   ]
  },
  {
   "cell_type": "code",
   "execution_count": 29,
   "metadata": {
    "collapsed": false
   },
   "outputs": [
    {
     "name": "stdout",
     "output_type": "stream",
     "text": [
      "3\n"
     ]
    }
   ],
   "source": [
    "dec = 8\n",
    "power = 0\n",
    "while 2 ** power < dec:\n",
    "    power = power + 1\n",
    "highest = power\n",
    "print(highest)"
   ]
  },
  {
   "cell_type": "code",
   "execution_count": 0,
   "metadata": {
    "collapsed": false
   },
   "outputs": [
   ],
   "source": [
    "binary = ''\n",
    "power = highest\n",
    "left_to_do = dec\n",
    "while left_to_do > 0:\n",
    "    contrib = left_to_do // 2 ** power\n",
    "    left_to_do = left_to_do - contrib * 2 ** power\n",
    "    binary = binary + str(contrib)\n",
    "    power = "
   ]
  }
 ],
 "metadata": {
  "kernelspec": {
   "display_name": "Python 3 (system-wide)",
   "language": "python",
   "metadata": {
    "cocalc": {
     "description": "Python 3 programming language",
     "priority": 100,
     "url": "https://www.python.org/"
    }
   },
   "name": "python3"
  },
  "language_info": {
   "codemirror_mode": {
    "name": "ipython",
    "version": 3
   },
   "file_extension": ".py",
   "mimetype": "text/x-python",
   "name": "python",
   "nbconvert_exporter": "python",
   "pygments_lexer": "ipython3",
   "version": "3.6.9"
  }
 },
 "nbformat": 4,
 "nbformat_minor": 0
}