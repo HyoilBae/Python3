{
 "cells": [
  {
   "cell_type": "code",
   "execution_count": 9,
   "metadata": {
    "collapsed": false
   },
   "outputs": [
    {
     "name": "stdout",
     "output_type": "stream",
     "text": [
      "Large\n",
      "All done\n"
     ]
    }
   ],
   "source": [
    "x = 13\n",
    "if x < 2:\n",
    "    print('Small')\n",
    "elif x < 10:\n",
    "    print('Medium')\n",
    "else:\n",
    "    print('Large')\n",
    "print('All done')"
   ]
  },
  {
   "cell_type": "code",
   "execution_count": 46,
   "metadata": {
    "collapsed": false
   },
   "outputs": [
    {
     "name": "stdout",
     "output_type": "stream",
     "text": [
      "400\n",
      "475\n"
     ]
    }
   ],
   "source": [
    "hourrate = 10\n",
    "overtimerate = 15\n",
    "\n",
    "def payperhours(hours):\n",
    "    if hours <= 40:\n",
    "        return ((hours * hourrate))\n",
    "    elif hours > 40:\n",
    "        #return ((hours % 40) * 15) + 400\n",
    "        return ((hours % 40) * overtimerate) + ((hours - (hours % 40)) * hourrate)\n",
    "\n",
    "print(payperhours(40))\n",
    "print(payperhours(45))\n"
   ]
  },
  {
   "cell_type": "code",
   "execution_count": 52,
   "metadata": {
    "collapsed": false
   },
   "outputs": [
    {
     "name": "stdout",
     "output_type": "stream",
     "text": [
      "400\n",
      "475\n"
     ]
    }
   ],
   "source": [
    "def computepay(hours, rate = 10):\n",
    "    if hours <= 40:\n",
    "        return (hours * rate)\n",
    "    elif hours > 40:\n",
    "        return ((hours % 40) * 15) + ((hours - (hours % 40)) * rate)\n",
    "\n",
    "print(computepay(40, 10))\n",
    "print(computepay(45, 10))"
   ]
  },
  {
   "cell_type": "code",
   "execution_count": 55,
   "metadata": {
    "collapsed": false
   },
   "outputs": [
    {
     "name": "stdout",
     "output_type": "stream",
     "text": [
      "475\n"
     ]
    }
   ],
   "source": [
    "def computepay(hours, rate = 10):\n",
    "    if hours <= 40:\n",
    "        print((hours * rate))\n",
    "    elif hours > 40:\n",
    "        print(((hours % 40) * 15) + ((hours - (hours % 40)) * rate))\n",
    "\n",
    "computepay(45, 10)\n",
    "\n"
   ]
  },
  {
   "cell_type": "code",
   "execution_count": 2,
   "metadata": {
    "cocalc": {
     "outputs": {
      "0": {
       "name": "input",
       "opts": {
        "password": false,
        "prompt": "how many hours did you work?"
       },
       "output_type": "stream",
       "value": "40"
      }
     }
    },
    "collapsed": false
   },
   "outputs": [
    {
     "name": "stdout",
     "output_type": "stream",
     "text": "how many hours did you work? 40"
    },
    {
     "name": "stdout",
     "output_type": "stream",
     "text": [
      "400\n"
     ]
    }
   ],
   "source": [
    "def computepay(hours, rate = 10):\n",
    "    if hours <= 40:\n",
    "        print((hours * rate))\n",
    "    elif hours > 40:\n",
    "        print(((hours % 40) * 15) + ((hours - (hours % 40)) * rate))\n",
    "\n",
    "inputhours = input(\"how many hours did you work?\")\n",
    "computepay(int(inputhours), 10)"
   ]
  },
  {
   "cell_type": "markdown",
   "metadata": {
    "collapsed": false
   },
   "source": [
    "##### "
   ]
  }
 ],
 "metadata": {
  "kernelspec": {
   "display_name": "Python 3 (system-wide)",
   "language": "python",
   "metadata": {
    "cocalc": {
     "description": "Python 3 programming language",
     "priority": 100,
     "url": "https://www.python.org/"
    }
   },
   "name": "python3"
  },
  "language_info": {
   "codemirror_mode": {
    "name": "ipython",
    "version": 3
   },
   "file_extension": ".py",
   "mimetype": "text/x-python",
   "name": "python",
   "nbconvert_exporter": "python",
   "pygments_lexer": "ipython3",
   "version": "3.6.9"
  }
 },
 "nbformat": 4,
 "nbformat_minor": 0
}