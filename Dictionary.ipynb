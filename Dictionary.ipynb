{
 "cells": [
  {
   "cell_type": "code",
   "execution_count": 0,
   "metadata": {
    "collapsed": false
   },
   "outputs": [
   ],
   "source": [
    "#create a dictionary to record the weights of Joe(175), Tom(190), and Dick(150). Print the dictionary"
   ]
  },
  {
   "cell_type": "code",
   "execution_count": 3,
   "metadata": {
    "collapsed": false
   },
   "outputs": [
   ],
   "source": [
    "weights = dict()\n",
    "weights['Joe'] = 175\n",
    "weights['Tom'] = 190\n",
    "weights['Dick'] = 150\n",
    "\n",
    "#weights = {'Joe': 175, 'Tom': 190, 'Dick': 150}"
   ]
  },
  {
   "cell_type": "code",
   "execution_count": 2,
   "metadata": {
    "collapsed": false
   },
   "outputs": [
    {
     "name": "stdout",
     "output_type": "stream",
     "text": [
      "{'Joe': 175, 'Tom': 190, 'Dick': 150}\n"
     ]
    }
   ],
   "source": [
    "print(weights)"
   ]
  },
  {
   "cell_type": "code",
   "execution_count": 4,
   "metadata": {
    "collapsed": false
   },
   "outputs": [
    {
     "name": "stdout",
     "output_type": "stream",
     "text": [
      "{'Joe': 175, 'Tom': 190, 'Dick': 150, 'Harry': 180}\n"
     ]
    }
   ],
   "source": [
    "#Add Harry into Dictionary\n",
    "weights['Harry'] = 180\n",
    "print(weights)"
   ]
  },
  {
   "cell_type": "code",
   "execution_count": 5,
   "metadata": {
    "collapsed": false
   },
   "outputs": [
    {
     "name": "stdout",
     "output_type": "stream",
     "text": [
      "{'Tom': 190, 'Dick': 150, 'Harry': 180}\n"
     ]
    }
   ],
   "source": [
    "#remove Joe from dictionary\n",
    "del weights['Joe']\n",
    "print(weights)"
   ]
  },
  {
   "cell_type": "code",
   "execution_count": 8,
   "metadata": {
    "collapsed": false
   },
   "outputs": [
    {
     "name": "stdout",
     "output_type": "stream",
     "text": [
      "150\n"
     ]
    }
   ],
   "source": [
    "print(weights['Dick'])"
   ]
  },
  {
   "cell_type": "code",
   "execution_count": 9,
   "metadata": {
    "collapsed": false
   },
   "outputs": [
    {
     "name": "stdout",
     "output_type": "stream",
     "text": [
      "Tom\n",
      "Dick\n",
      "Harry\n"
     ]
    }
   ],
   "source": [
    "for weight in weights:\n",
    "    print(weight)"
   ]
  },
  {
   "cell_type": "code",
   "execution_count": 14,
   "metadata": {
    "collapsed": false
   },
   "outputs": [
    {
     "name": "stdout",
     "output_type": "stream",
     "text": [
      "190\n",
      "150\n",
      "180\n",
      "The sum of all weights are: 520\n"
     ]
    }
   ],
   "source": [
    "sumWeights = 0\n",
    "for name in weights:\n",
    "    print(weights[name])\n",
    "    sumWeights += weights[name]\n",
    "print(\"The sum of all weights are:\", sumWeights)"
   ]
  },
  {
   "cell_type": "code",
   "execution_count": 21,
   "metadata": {
    "collapsed": false
   },
   "outputs": [
    {
     "ename": "SyntaxError",
     "evalue": "invalid syntax (<ipython-input-21-30163dad08a0>, line 3)",
     "output_type": "error",
     "traceback": [
      "\u001b[0;36m  File \u001b[0;32m\"<ipython-input-21-30163dad08a0>\"\u001b[0;36m, line \u001b[0;32m3\u001b[0m\n\u001b[0;31m    print(weights[item)])\u001b[0m\n\u001b[0m                      ^\u001b[0m\n\u001b[0;31mSyntaxError\u001b[0m\u001b[0;31m:\u001b[0m invalid syntax\n"
     ]
    }
   ],
   "source": [
    "def items(weights):\n",
    "    for item in weights:\n",
    "        print(weights[item)])"
   ]
  },
  {
   "cell_type": "code",
   "execution_count": 23,
   "metadata": {
    "collapsed": false
   },
   "outputs": [
    {
     "name": "stdout",
     "output_type": "stream",
     "text": [
      "dict_items([('Tom', 190), ('Dick', 150), ('Harry', 180)])\n"
     ]
    },
    {
     "data": {
      "text/plain": [
       "dict_items"
      ]
     },
     "execution_count": 23,
     "metadata": {
     },
     "output_type": "execute_result"
    }
   ],
   "source": [
    "rti = weights.items()\n",
    "print(rti)\n",
    "type(rti)"
   ]
  },
  {
   "cell_type": "code",
   "execution_count": 24,
   "metadata": {
    "collapsed": false
   },
   "outputs": [
    {
     "name": "stdout",
     "output_type": "stream",
     "text": [
      "('Tom', 190)\n",
      "('Dick', 150)\n",
      "('Harry', 180)\n"
     ]
    }
   ],
   "source": [
    "for i in rti:\n",
    "    print(i)"
   ]
  },
  {
   "cell_type": "code",
   "execution_count": 25,
   "metadata": {
    "collapsed": false
   },
   "outputs": [
    {
     "ename": "TypeError",
     "evalue": "'dict_items' object does not support indexing",
     "output_type": "error",
     "traceback": [
      "\u001b[0;31m---------------------------------------------------------------------------\u001b[0m",
      "\u001b[0;31mTypeError\u001b[0m                                 Traceback (most recent call last)",
      "\u001b[0;32m<ipython-input-25-f81fb44958a2>\u001b[0m in \u001b[0;36m<module>\u001b[0;34m\u001b[0m\n\u001b[0;32m----> 1\u001b[0;31m \u001b[0mprint\u001b[0m\u001b[0;34m(\u001b[0m\u001b[0mrti\u001b[0m\u001b[0;34m[\u001b[0m\u001b[0;36m0\u001b[0m\u001b[0;34m]\u001b[0m\u001b[0;34m)\u001b[0m\u001b[0;34m\u001b[0m\u001b[0;34m\u001b[0m\u001b[0m\n\u001b[0m",
      "\u001b[0;31mTypeError\u001b[0m: 'dict_items' object does not support indexing"
     ]
    }
   ],
   "source": [
    "print(rti[0])"
   ]
  },
  {
   "cell_type": "code",
   "execution_count": 26,
   "metadata": {
    "collapsed": false
   },
   "outputs": [
    {
     "name": "stdout",
     "output_type": "stream",
     "text": [
      "[('Tom', 190), ('Dick', 150), ('Harry', 180)]\n"
     ]
    }
   ],
   "source": [
    "rtiList = []\n",
    "for i in rti:\n",
    "    rtiList.append(i)\n",
    "print(rtiList)"
   ]
  },
  {
   "cell_type": "code",
   "execution_count": 27,
   "metadata": {
    "collapsed": false
   },
   "outputs": [
    {
     "name": "stdout",
     "output_type": "stream",
     "text": [
      "[('Tom', 190), ('Dick', 150), ('Harry', 180)]\n"
     ]
    }
   ],
   "source": [
    "rti_L = list(rti)\n",
    "print(rti_L)"
   ]
  },
  {
   "cell_type": "code",
   "execution_count": 28,
   "metadata": {
    "collapsed": false
   },
   "outputs": [
    {
     "name": "stdout",
     "output_type": "stream",
     "text": [
      "dict_values([190, 150, 180])\n"
     ]
    }
   ],
   "source": [
    "my_vals = weights.values()\n",
    "print(my_vals)"
   ]
  },
  {
   "cell_type": "code",
   "execution_count": 29,
   "metadata": {
    "collapsed": false
   },
   "outputs": [
    {
     "data": {
      "text/plain": [
       "dict_values"
      ]
     },
     "execution_count": 29,
     "metadata": {
     },
     "output_type": "execute_result"
    }
   ],
   "source": [
    "type(my_vals)"
   ]
  },
  {
   "cell_type": "code",
   "execution_count": 30,
   "metadata": {
    "collapsed": false
   },
   "outputs": [
    {
     "name": "stdout",
     "output_type": "stream",
     "text": [
      "190 <class 'int'>\n",
      "150 <class 'int'>\n",
      "180 <class 'int'>\n"
     ]
    }
   ],
   "source": [
    "for k in my_vals:\n",
    "    print(k, type(k))"
   ]
  },
  {
   "cell_type": "code",
   "execution_count": 32,
   "metadata": {
    "collapsed": false
   },
   "outputs": [
    {
     "data": {
      "text/plain": [
       "list"
      ]
     },
     "execution_count": 32,
     "metadata": {
     },
     "output_type": "execute_result"
    }
   ],
   "source": [
    "my_val_1 = list(my_vals)\n",
    "type(my_val_1)"
   ]
  },
  {
   "cell_type": "code",
   "execution_count": 35,
   "metadata": {
    "collapsed": false
   },
   "outputs": [
    {
     "name": "stdout",
     "output_type": "stream",
     "text": [
      "{'M': 1, 'i': 4, 's': 4, 'p': 2}\n",
      "M 1\n",
      "i 4\n",
      "s 4\n",
      "p 2\n"
     ]
    }
   ],
   "source": [
    "s = 'Mississippi'\n",
    "count_dict = {}\n",
    "for c in s:\n",
    "    if c in count_dict:\n",
    "        count_dict[c] = count_dict[c] + 1\n",
    "    else:\n",
    "        count_dict[c] = 1\n",
    "print(count_dict)\n",
    "        \n",
    "for k in count_dict.keys():\n",
    "    print(k, count_dict[k])"
   ]
  },
  {
   "cell_type": "code",
   "execution_count": 46,
   "metadata": {
    "collapsed": false
   },
   "outputs": [
    {
     "name": "stdout",
     "output_type": "stream",
     "text": [
      "{'2': 5, '7': 3, '1': 6, '3': 3, '0': 3, '5': 4, '4': 3, '9': 1}\n",
      "2 5 0.17857142857142858\n",
      "7 3 0.10714285714285714\n",
      "1 6 0.21428571428571427\n",
      "3 3 0.10714285714285714\n",
      "0 3 0.10714285714285714\n",
      "5 4 0.14285714285714285\n",
      "4 3 0.10714285714285714\n",
      "9 1 0.03571428571428571\n"
     ]
    }
   ],
   "source": [
    "magicNumber = '2727130252053142514510171943'\n",
    "count_number = {}\n",
    "for num in magicNumber:\n",
    "    if num in count_number:\n",
    "        count_number[num] = count_number[num]+1\n",
    "    else:\n",
    "        count_number[num] = 1\n",
    "print(count_number)\n",
    "\n",
    "for key in count_number.keys():\n",
    "    print(key, count_number[key], count_number[key]/len(magicNumber))"
   ]
  },
  {
   "cell_type": "code",
   "execution_count": 47,
   "metadata": {
    "collapsed": false
   },
   "outputs": [
    {
     "name": "stdout",
     "output_type": "stream",
     "text": [
      " \n",
      "Maximum Count\n",
      "6\n"
     ]
    }
   ],
   "source": [
    "maxcount = max(count_number.values())\n",
    "print(' ')\n",
    "print('Maximum Count')\n",
    "print(maxcount)"
   ]
  },
  {
   "cell_type": "code",
   "execution_count": 48,
   "metadata": {
    "collapsed": false
   },
   "outputs": [
    {
     "name": "stdout",
     "output_type": "stream",
     "text": [
      " \n",
      "Most Frequent Items\n",
      "['1']\n"
     ]
    }
   ],
   "source": [
    "Win_list = []\n",
    "for i in count_number.keys():\n",
    "    if count_number[i] >= maxcount:\n",
    "        Win_list.append(i)\n",
    "print(' ')\n",
    "print(\"Most Frequent Items\")\n",
    "print(Win_list)"
   ]
  },
  {
   "cell_type": "code",
   "execution_count": 32,
   "metadata": {
    "collapsed": false
   },
   "outputs": [
    {
     "name": "stdout",
     "output_type": "stream",
     "text": [
      "['1', '2', '3', '4', '5', '6', '7', '8', '9', '10', '11', '12', '13', '14', '15', '16', '17', '18', '19', '20']\n"
     ]
    }
   ],
   "source": [
    "numlist = []\n",
    "for i in range(1, 21):\n",
    "    s = str(i)\n",
    "    numlist.append(s)\n",
    "\n",
    "print(numlist)"
   ]
  },
  {
   "cell_type": "code",
   "execution_count": 33,
   "metadata": {
    "collapsed": false
   },
   "outputs": [
    {
     "name": "stdout",
     "output_type": "stream",
     "text": [
      "['1', '2', '3', '4', '5', '6', '7', '8', '9', '1', '1', '1', '1', '1', '1', '1', '1', '1', '1', '2']\n"
     ]
    }
   ],
   "source": [
    "fdlist = []\n",
    "for num in numlist:\n",
    "    #print(num)\n",
    "    firstD = num[0]\n",
    "    fdlist.append(firstD)\n",
    "print(fdlist)"
   ]
  },
  {
   "cell_type": "code",
   "execution_count": 34,
   "metadata": {
    "collapsed": false
   },
   "outputs": [
    {
     "name": "stdout",
     "output_type": "stream",
     "text": [
      "1\n",
      "1\n",
      "1\n",
      "1\n",
      "1\n",
      "1\n",
      "1\n",
      "1\n",
      "1\n",
      "2\n",
      "3\n",
      "4\n",
      "5\n",
      "6\n",
      "7\n",
      "8\n",
      "9\n",
      "10\n",
      "11\n",
      "2\n",
      "{'1': 11, '2': 2, '3': 1, '4': 1, '5': 1, '6': 1, '7': 1, '8': 1, '9': 1}\n",
      "1 11 0.55\n",
      "2 2 0.1\n",
      "3 1 0.05\n",
      "4 1 0.05\n",
      "5 1 0.05\n",
      "6 1 0.05\n",
      "7 1 0.05\n",
      "8 1 0.05\n",
      "9 1 0.05\n"
     ]
    }
   ],
   "source": [
    "numlist = []\n",
    "fdlist = []\n",
    "for i in range(1,21):\n",
    "    s = str(i)\n",
    "    numlist.append(s)\n",
    "    fdlist.append(s[0])\n",
    "\n",
    "count_dict = {}\n",
    "for c in fdlist:\n",
    "    count_dict[c] = count_dict.get(c, 0) + 1\n",
    "    #print(count_dict.get(c,0) + 1)\n",
    "    #print(count_dict[c])\n",
    "    print(count_dict.get(c, 0))\n",
    "\n",
    "# Let's look at the results\n",
    "print(count_dict)\n",
    "\n",
    "for k in count_dict.keys():\n",
    "    print(k,count_dict[k],count_dict[k]/len(fdlist))   "
   ]
  },
  {
   "cell_type": "code",
   "execution_count": 4,
   "metadata": {
    "collapsed": false
   },
   "outputs": [
    {
     "name": "stdout",
     "output_type": "stream",
     "text": [
      "1 12 0.12\n",
      "2 11 0.11\n",
      "3 11 0.11\n",
      "4 11 0.11\n",
      "5 11 0.11\n",
      "6 11 0.11\n",
      "7 11 0.11\n",
      "8 11 0.11\n",
      "9 11 0.11\n"
     ]
    }
   ],
   "source": [
    "fdlist = []\n",
    "for num in numlist:\n",
    "    #print(num)\n",
    "    firstD = num[0]\n",
    "    fdlist.append(firstD)\n",
    "#print(fdlist)\n",
    "count_dict = {}\n",
    "for c in fdlist:\n",
    "    count_dict[c] = count_dict.get(c,0) + 1\n",
    "    \n",
    "for k in count_dict.keys():\n",
    "    print(k, count_dict[k], count_dict[k]/len(fdlist))"
   ]
  },
  {
   "cell_type": "code",
   "execution_count": 54,
   "metadata": {
    "collapsed": false
   },
   "outputs": [
    {
     "name": "stdout",
     "output_type": "stream",
     "text": [
      "(5, 4, 12, 11)\n"
     ]
    }
   ],
   "source": [
    "def tsort(t):\n",
    "    tlist = []\n",
    "    for t in ta:\n",
    "        for a in ta:\n",
    "            if t >= a:\n",
    "                tmp = t\n",
    "                t = a\n",
    "                a = t\n",
    "    print(ta)\n",
    "\n",
    "ta = (5, 4, 12, 11)\n",
    "tsort(ta)"
   ]
  },
  {
   "cell_type": "code",
   "execution_count": 55,
   "metadata": {
    "collapsed": false
   },
   "outputs": [
    {
     "name": "stdout",
     "output_type": "stream",
     "text": [
      "5\n",
      "4\n",
      "12\n",
      "11\n"
     ]
    },
    {
     "ename": "AttributeError",
     "evalue": "'tuple' object has no attribute 'items'",
     "output_type": "error",
     "traceback": [
      "\u001b[0;31m---------------------------------------------------------------------------\u001b[0m",
      "\u001b[0;31mAttributeError\u001b[0m                            Traceback (most recent call last)",
      "\u001b[0;32m<ipython-input-55-1f88d5a51632>\u001b[0m in \u001b[0;36m<module>\u001b[0;34m\u001b[0m\n\u001b[1;32m      5\u001b[0m     \u001b[0mprint\u001b[0m\u001b[0;34m(\u001b[0m\u001b[0mt\u001b[0m\u001b[0;34m)\u001b[0m\u001b[0;34m\u001b[0m\u001b[0;34m\u001b[0m\u001b[0m\n\u001b[1;32m      6\u001b[0m \u001b[0;34m\u001b[0m\u001b[0m\n\u001b[0;32m----> 7\u001b[0;31m \u001b[0mt\u001b[0m \u001b[0;34m=\u001b[0m \u001b[0msorted\u001b[0m\u001b[0;34m(\u001b[0m\u001b[0mta\u001b[0m\u001b[0;34m.\u001b[0m\u001b[0mitems\u001b[0m\u001b[0;34m(\u001b[0m\u001b[0;34m)\u001b[0m\u001b[0;34m)\u001b[0m\u001b[0;34m\u001b[0m\u001b[0;34m\u001b[0m\u001b[0m\n\u001b[0m",
      "\u001b[0;31mAttributeError\u001b[0m: 'tuple' object has no attribute 'items'"
     ]
    }
   ],
   "source": [
    "ta = (5, 4, 12, 11)\n",
    "#print(ta[0])\n",
    "#print(ta[1])\n",
    "for t in ta:\n",
    "    print(t)\n",
    "\n",
    "t = sorted(ta.items())"
   ]
  },
  {
   "cell_type": "code",
   "execution_count": 56,
   "metadata": {
    "collapsed": false
   },
   "outputs": [
    {
     "name": "stdout",
     "output_type": "stream",
     "text": [
      "(4, 5, 11, 12)\n"
     ]
    }
   ],
   "source": [
    "def tsort(t):\n",
    "    l = list(t)\n",
    "    l.sort()\n",
    "    tout = tuple(l)\n",
    "    return(tout)\n",
    "\n",
    "ta = (5, 4, 12, 11)\n",
    "print(tsort(ta))"
   ]
  },
  {
   "cell_type": "code",
   "execution_count": 62,
   "metadata": {
    "collapsed": false
   },
   "outputs": [
    {
     "name": "stdout",
     "output_type": "stream",
     "text": [
      "1\n",
      "2\n",
      "3\n",
      "3\n",
      "1\n",
      "2\n",
      "3\n"
     ]
    }
   ],
   "source": [
    "t1 = (1, 2, 3)\n",
    "(First, Second, Third) = t1\n",
    "print(First)\n",
    "print(2)\n",
    "print(Third)\n",
    "print(3)\n",
    "for t in t1:\n",
    "    print(t)"
   ]
  },
  {
   "cell_type": "code",
   "execution_count": 0,
   "metadata": {
    "collapsed": false
   },
   "outputs": [
   ],
   "source": [
   ]
  }
 ],
 "metadata": {
  "kernelspec": {
   "display_name": "Python 3 (system-wide)",
   "language": "python",
   "metadata": {
    "cocalc": {
     "description": "Python 3 programming language",
     "priority": 100,
     "url": "https://www.python.org/"
    }
   },
   "name": "python3"
  },
  "language_info": {
   "codemirror_mode": {
    "name": "ipython",
    "version": 3
   },
   "file_extension": ".py",
   "mimetype": "text/x-python",
   "name": "python",
   "nbconvert_exporter": "python",
   "pygments_lexer": "ipython3",
   "version": "3.6.9"
  }
 },
 "nbformat": 4,
 "nbformat_minor": 0
}